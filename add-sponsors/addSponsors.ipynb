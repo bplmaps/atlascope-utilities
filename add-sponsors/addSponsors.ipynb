{
 "cells": [
  {
   "attachments": {},
   "cell_type": "markdown",
   "metadata": {},
   "source": [
    "### Goal\n",
    "\n",
    "- loop through the GeoJSON file's properties\n",
    "- to each feature's `properties` array, add the following key-value pair:\n",
    "\n",
    "```JSON\n",
    "\"properties\": {\n",
    "    \"identifier\": \"ark:/76611/aliugq9xo\",\n",
    "    \"publisherShort\": \"Hopkins\",\n",
    "    \"year\": \"1880\",\n",
    "    \"bibliographicEntry\": \"_City of Lynn, Massachusetts_ (G.M. Hopkins, 1880)\",\n",
    "    \"source\": {\n",
    "        \"type\": \"tilejson\",\n",
    "        \"url\": \"https://s3.us-east-2.wasabisys.com/urbanatlases/aliugq9xo/tileset.json\"\n",
    "    },\n",
    "    \"catalogPermalink\": \"https://collections.leventhalmap.org/search/commonwealth:8k71r660s\",\n",
    "    \"heldBy\": [\"State Library of Massachusetts\"],\n",
    "    \"sponsor\": []\n",
    "},\n",
    "```"
   ]
  },
  {
   "cell_type": "code",
   "execution_count": null,
   "metadata": {},
   "outputs": [],
   "source": [
    "import json\n",
    "import pandas as pd\n",
    "import requests\n",
    "\n",
    "# load the dataset\n",
    "\n",
    "data = requests.get(\"https://raw.githubusercontent.com/bplmaps/lmec-digital-library-metadata/main/atlascope/atlascope-boston/boston-volume-extents.geojson\")\n",
    "\n",
    "# read it as JSON data\n",
    "\n",
    "dataJson = json.dumps(data.json(), indent=2)\n",
    "print(dataJson)"
   ]
  },
  {
   "cell_type": "code",
   "execution_count": null,
   "metadata": {},
   "outputs": [],
   "source": [
    "# let's define the data variable again with no formatting\n",
    "\n",
    "data = requests.get(\"https://raw.githubusercontent.com/bplmaps/lmec-digital-library-metadata/main/atlascope/atlascope-boston/boston-volume-extents.geojson\")\n",
    "dataJson = data.json()\n",
    "\n",
    "print(json.dumps(dataJson['features'][0]['properties'], indent=2))"
   ]
  },
  {
   "cell_type": "code",
   "execution_count": null,
   "metadata": {},
   "outputs": [],
   "source": [
    "for f in dataJson['features']:\n",
    "    print(f)"
   ]
  }
 ],
 "metadata": {
  "kernelspec": {
   "display_name": "Python 3",
   "language": "python",
   "name": "python3"
  },
  "language_info": {
   "codemirror_mode": {
    "name": "ipython",
    "version": 3
   },
   "file_extension": ".py",
   "mimetype": "text/x-python",
   "name": "python",
   "nbconvert_exporter": "python",
   "pygments_lexer": "ipython3",
   "version": "3.7.11"
  },
  "orig_nbformat": 4
 },
 "nbformat": 4,
 "nbformat_minor": 2
}
