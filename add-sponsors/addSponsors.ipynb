{
 "cells": [
  {
   "attachments": {},
   "cell_type": "markdown",
   "metadata": {},
   "source": [
    "### Adding `sponsors` property to Atlascope's volume extents file\n",
    "\n",
    "Simple Python notebook documenting how the `sponsors` property was added to Atlascope's `boston-volume-extents.geojson` file."
   ]
  },
  {
   "cell_type": "code",
   "execution_count": null,
   "metadata": {},
   "outputs": [],
   "source": [
    "import json\n",
    "import pandas as pd\n",
    "import requests\n",
    "\n",
    "# load the dataset\n",
    "\n",
    "data = requests.get(\"https://s3.us-east-2.wasabisys.com/urbanatlases/extents/boston-volume-extents.geojson\")\n",
    "\n",
    "# read it as JSON data\n",
    "\n",
    "dataJson = data.json()\n",
    "\n",
    "# loop through JSON data and append empty sponsors array to each item\n",
    "\n",
    "for f in dataJson['features']:\n",
    "    f['properties']['sponsors'] = []\n",
    "\n",
    "# print formatted JSON data and copy it into the `boston-volume-extents.geojson` file\n",
    "\n",
    "print(json.dumps(dataJson, indent=2))"
   ]
  }
 ],
 "metadata": {
  "kernelspec": {
   "display_name": "Python 3",
   "language": "python",
   "name": "python3"
  },
  "language_info": {
   "codemirror_mode": {
    "name": "ipython",
    "version": 3
   },
   "file_extension": ".py",
   "mimetype": "text/x-python",
   "name": "python",
   "nbconvert_exporter": "python",
   "pygments_lexer": "ipython3",
   "version": "3.10.9"
  },
  "orig_nbformat": 4
 },
 "nbformat": 4,
 "nbformat_minor": 2
}
